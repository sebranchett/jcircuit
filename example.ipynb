{
 "cells": [
  {
   "cell_type": "markdown",
   "metadata": {},
   "source": [
    "Old Jupyter-widgets are now deprecated. See: https://github.com/jupyter-widgets/widget-cookiecutter/blob/master/README.md\n",
    "\n",
    "This uses the recommended 'anywidget': https://anywidget.dev/en/getting-started/"
   ]
  },
  {
   "cell_type": "code",
   "execution_count": 1,
   "metadata": {
    "editable": true,
    "slideshow": {
     "slide_type": ""
    },
    "tags": []
   },
   "outputs": [
    {
     "name": "stdout",
     "output_type": "stream",
     "text": [
      "env: ANYWIDGET_HMR=1\n"
     ]
    },
    {
     "data": {
      "application/vnd.jupyter.widget-view+json": {
       "model_id": "06b19ba07ef6449e9311eab6e91d0abe",
       "version_major": 2,
       "version_minor": 1
      },
      "text/plain": [
       "JCircuitWidget()"
      ]
     },
     "execution_count": 1,
     "metadata": {},
     "output_type": "execute_result"
    }
   ],
   "source": [
    "%env ANYWIDGET_HMR=1\n",
    "from __init__ import JCircuitWidget\n",
    "\n",
    "my_widget = JCircuitWidget()\n",
    "my_widget"
   ]
  },
  {
   "cell_type": "code",
   "execution_count": 4,
   "metadata": {},
   "outputs": [
    {
     "data": {
      "text/plain": [
       "[{'id': 'R1',\n",
       "  'nodes': [{'x': 30, 'y': 160}, {'x': 80, 'y': 160}],\n",
       "  'label': None,\n",
       "  'type': 'resistor',\n",
       "  'properties': {'values': {}}},\n",
       " {'id': 'W2',\n",
       "  'nodes': [{'x': 380, 'y': 300}, {'x': 430, 'y': 300}],\n",
       "  'label': None,\n",
       "  'type': 'wire',\n",
       "  'properties': {'values': {}}}]"
      ]
     },
     "execution_count": 4,
     "metadata": {},
     "output_type": "execute_result"
    }
   ],
   "source": [
    "my_widget.circuitElements"
   ]
  },
  {
   "cell_type": "code",
   "execution_count": 5,
   "metadata": {
    "editable": true,
    "slideshow": {
     "slide_type": ""
    },
    "tags": []
   },
   "outputs": [
    {
     "data": {
      "text/plain": [
       "1"
      ]
     },
     "execution_count": 5,
     "metadata": {},
     "output_type": "execute_result"
    }
   ],
   "source": [
    "my_widget.exportTrigger"
   ]
  }
 ],
 "metadata": {
  "kernelspec": {
   "display_name": "Python 3 (ipykernel)",
   "language": "python",
   "name": "python3"
  },
  "language_info": {
   "codemirror_mode": {
    "name": "ipython",
    "version": 3
   },
   "file_extension": ".py",
   "mimetype": "text/x-python",
   "name": "python",
   "nbconvert_exporter": "python",
   "pygments_lexer": "ipython3",
   "version": "3.13.2"
  }
 },
 "nbformat": 4,
 "nbformat_minor": 4
}
