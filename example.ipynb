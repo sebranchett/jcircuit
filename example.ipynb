{
 "cells": [
  {
   "cell_type": "markdown",
   "metadata": {},
   "source": [
    "Old Jupyter-widgets are now deprecated. See: https://github.com/jupyter-widgets/widget-cookiecutter/blob/master/README.md\n",
    "\n",
    "This uses the recommended 'anywidget': https://anywidget.dev/en/getting-started/"
   ]
  },
  {
   "cell_type": "code",
   "execution_count": null,
   "metadata": {
    "editable": true,
    "slideshow": {
     "slide_type": ""
    },
    "tags": []
   },
   "outputs": [],
   "source": [
    "%env ANYWIDGET_HMR=1\n",
    "import anywidget\n",
    "import traitlets\n",
    "import json\n",
    "\n",
    "\n",
    "class Qucat_GUI_Widget(anywidget.AnyWidget):\n",
    "    _esm = \"./static/widget.js\"\n",
    "    _css = \"\"\"\n",
    "    .controls button { margin-top: 10px; }\n",
    "    \"\"\"\n",
    "    circuitElements = traitlets.List().tag(sync=True)\n",
    "    exportTrigger = traitlets.Int(0).tag(sync=True)\n",
    "\n",
    "\n",
    "def on_export_triggered(change):\n",
    "    \"\"\"\n",
    "    This function is triggered whenever `exportTrigger` changes\n",
    "    (i.e., whenever the front-end button is pressed).\n",
    "    \"\"\"\n",
    "    # Grab the new exportTrigger value (though we rarely need it if we’re just saving circuitElements)\n",
    "    new_trigger_value = change[\"new\"]\n",
    "    print(f\"Export trigger observed; new value is {new_trigger_value}\")\n",
    "\n",
    "    # Now read the current circuit data from the widget trait\n",
    "    circuit_data = change[\"owner\"].circuitElements\n",
    "    \n",
    "    # Write it to a file or handle however you want\n",
    "    with open(\"exported_circuit.json\", \"w\") as f:\n",
    "        json.dump(circuit_data, f, indent=4)\n",
    "    print(\"Wrote exported_circuit.json\")\n",
    "\n",
    "\n",
    "my_widget = Qucat_GUI_Widget()\n",
    "my_widget.observe(on_export_triggered, \"exportTrigger\")\n",
    "my_widget"
   ]
  },
  {
   "cell_type": "code",
   "execution_count": null,
   "metadata": {},
   "outputs": [],
   "source": [
    "my_widget.circuitElements"
   ]
  },
  {
   "cell_type": "code",
   "execution_count": null,
   "metadata": {
    "editable": true,
    "slideshow": {
     "slide_type": ""
    },
    "tags": []
   },
   "outputs": [],
   "source": [
    "my_widget.exportTrigger"
   ]
  }
 ],
 "metadata": {
  "kernelspec": {
   "display_name": "Python 3 (ipykernel)",
   "language": "python",
   "name": "python3"
  },
  "language_info": {
   "codemirror_mode": {
    "name": "ipython",
    "version": 3
   },
   "file_extension": ".py",
   "mimetype": "text/x-python",
   "name": "python",
   "nbconvert_exporter": "python",
   "pygments_lexer": "ipython3",
   "version": "3.13.2"
  }
 },
 "nbformat": 4,
 "nbformat_minor": 4
}
